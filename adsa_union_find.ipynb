{
 "cells": [
  {
   "cell_type": "code",
   "execution_count": 1,
   "metadata": {},
   "outputs": [
    {
     "name": "stdout",
     "output_type": "stream",
     "text": [
      "Are 1 and 3 in the same set? Yes\n",
      "Are 3 and 4 in the same set? No\n"
     ]
    }
   ],
   "source": [
    "class UnionFind:\n",
    "    def __init__(self,size):\n",
    "        #init the parent array with each element as its own representative\n",
    "        self.parent = list(range(size))\n",
    "\n",
    "    def find(self, i):\n",
    "        #if i itself is root or representative\n",
    "        if self.parent[i] == i:\n",
    "            return i\n",
    "\n",
    "        #else recursively find the representative of the parent\n",
    "        self.find(self.parent[i])\n",
    "\n",
    "    def unite(self, i, j):\n",
    "        #representative of set containing i\n",
    "        irep = self.find(i)\n",
    "        #representative of set containing j\n",
    "        jrep = self.find(j)\n",
    "\n",
    "        #make the rep of i's set be the rep of j's set\n",
    "        self.parent[irep] = jrep\n",
    "\n",
    "size = 5\n",
    "uf = UnionFind(size)\n",
    "uf.unite(1, 2)\n",
    "uf.unite(3, 4)\n",
    "\n",
    "in_same_set = (uf.find(1) == uf.find(3))\n",
    "in_same_set01 = (uf.find(3) == uf.find(4))\n",
    "\n",
    "print(\"Are 1 and 3 in the same set?\", \"Yes\" if in_same_set else \"No\")\n",
    "print(\"Are 3 and 4 in the same set?\", \"Yes\" if in_same_set01 else \"No\")\n"
   ]
  },
  {
   "cell_type": "code",
   "execution_count": 3,
   "metadata": {},
   "outputs": [
    {
     "name": "stdout",
     "output_type": "stream",
     "text": [
      "yes\n",
      "no\n"
     ]
    }
   ],
   "source": [
    "#Union by rank\n",
    "\n",
    "class DisjointUnionSets:\n",
    "    def __init__(self, n):\n",
    "        self.rank = [0]*n\n",
    "        self.parent = list(range(n))\n",
    "\n",
    "    def find(self, x):\n",
    "        if self.parent[x] != x:\n",
    "            #path compression\n",
    "            self.parent[x] = self.find(self.parent[x])\n",
    "        return self.parent[x]\n",
    "    \n",
    "    def unionSets(self, x, y):\n",
    "        xRoot = self.find(x)\n",
    "        yRoot = self.find(y)\n",
    "\n",
    "        if xRoot == yRoot:\n",
    "            return\n",
    "        \n",
    "        #Union of Rank \n",
    "        if self.rank[xRoot] < self.rank[yRoot]:\n",
    "            self.parent[xRoot] = yRoot\n",
    "        elif self.rank[yRoot] < self.rank[xRoot]:\n",
    "            self.parent[yRoot] = xRoot\n",
    "        else:\n",
    "            self.parent[yRoot] = xRoot\n",
    "            self.rank[xRoot] += 1\n",
    "\n",
    "if __name__ == '__main__':\n",
    "\n",
    "    n = 5 # let there be 5 persons with ids 0,1,2,3,4\n",
    "    dus = DisjointUnionSets(n)\n",
    "\n",
    "    dus.unionSets(0, 2) # 0 is a friend of 2\n",
    "    dus.unionSets(4, 2) # 4 is a friend of 2\n",
    "    dus.unionSets(3, 1) # 3 is a friend of 1\n",
    "\n",
    "    # check if 4 is a friend of 0\n",
    "    if dus.find(4) == dus.find(0):\n",
    "        print(\"yes\")\n",
    "    else:\n",
    "        print(\"no\")\n",
    "\n",
    "    # check if 1 is a friend of 0\n",
    "    if dus.find(1) == dus.find(0):\n",
    "        print(\"yes\")\n",
    "    else:\n",
    "        print(\"no\")\n",
    "        \n"
   ]
  },
  {
   "cell_type": "code",
   "execution_count": 4,
   "metadata": {},
   "outputs": [
    {
     "name": "stdout",
     "output_type": "stream",
     "text": [
      "True\n",
      "False\n"
     ]
    }
   ],
   "source": [
    "#Quickfind\n",
    "class QuickFind(object):\n",
    "    graph=[]\n",
    "    n=0\n",
    "\n",
    "    #function to create structure with input total number of nodes in graph\n",
    "    def __init__(self,m):\n",
    "        x = 0\n",
    "        self.n = m\n",
    "        while x<self.n:\n",
    "            self.graph.insert(x,x)\n",
    "            x = x + 1\n",
    "    \n",
    "    #function used to check result and return boolean answer\n",
    "    def CheckConnection(self,p,q):\n",
    "        return self.graph[p] == self.graph[q]\n",
    "    \n",
    "    #function used to create connection between graph and store in structure and return nothing \n",
    "    def Unite(self,p,q):\n",
    "        p_graph = self.graph[p]\n",
    "        x = 0\n",
    "        while x<self.n:\n",
    "            if self.graph[x] == p_graph:\n",
    "                self.graph[x] = self.graph[q]\n",
    "            \n",
    "            x = x + 1\n",
    "\n",
    "#example\n",
    "# 2-------3-----4\n",
    "# connected nodes: {0, 1} amd {2, 3, 4}\n",
    "# not connected nodes: {1, 2}\n",
    "# total number of nodes in graph: 5 = {0,1,2,3,4,5}\n",
    "\n",
    "obj = QuickFind(5) #total number of nodes in graph\n",
    "obj.Unite(0, 1) #create a connection between 0 and 1\n",
    "obj.Unite(2, 3) #create a connection between 2 and 3\n",
    "obj.Unite(3, 4) #create a connection between 3 and 4\n",
    "\n",
    "print(obj.CheckConnection(0,1)) #check connection between 0 and 1\n",
    "print(obj.CheckConnection(1,2)) #check connection between 1 and 2\n",
    "\n",
    "\n"
   ]
  },
  {
   "cell_type": "code",
   "execution_count": null,
   "metadata": {},
   "outputs": [],
   "source": []
  }
 ],
 "metadata": {
  "kernelspec": {
   "display_name": "Python 3",
   "language": "python",
   "name": "python3"
  },
  "language_info": {
   "codemirror_mode": {
    "name": "ipython",
    "version": 3
   },
   "file_extension": ".py",
   "mimetype": "text/x-python",
   "name": "python",
   "nbconvert_exporter": "python",
   "pygments_lexer": "ipython3",
   "version": "3.12.2"
  }
 },
 "nbformat": 4,
 "nbformat_minor": 2
}
